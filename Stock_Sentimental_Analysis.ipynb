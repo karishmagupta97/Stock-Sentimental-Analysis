{
  "nbformat": 4,
  "nbformat_minor": 0,
  "metadata": {
    "colab": {
      "name": "Stock Sentimental Analysis",
      "provenance": [],
      "authorship_tag": "ABX9TyMBl2BNnLxTg6wPG1nTPStb",
      "include_colab_link": true
    },
    "kernelspec": {
      "name": "python3",
      "display_name": "Python 3"
    }
  },
  "cells": [
    {
      "cell_type": "markdown",
      "metadata": {
        "id": "view-in-github",
        "colab_type": "text"
      },
      "source": [
        "<a href=\"https://colab.research.google.com/github/karishmagupta97/Stock-Sentimental-Analysis/blob/master/Stock_Sentimental_Analysis.ipynb\" target=\"_parent\"><img src=\"https://colab.research.google.com/assets/colab-badge.svg\" alt=\"Open In Colab\"/></a>"
      ]
    },
    {
      "cell_type": "code",
      "metadata": {
        "id": "o2lpU_oWZTJL",
        "colab_type": "code",
        "colab": {}
      },
      "source": [
        "!pip install -q keras"
      ],
      "execution_count": 1,
      "outputs": []
    },
    {
      "cell_type": "code",
      "metadata": {
        "id": "xWrhIxwGZUDj",
        "colab_type": "code",
        "colab": {}
      },
      "source": [
        "import pandas as pd\n",
        "import numpy as np\n"
      ],
      "execution_count": 2,
      "outputs": []
    },
    {
      "cell_type": "code",
      "metadata": {
        "id": "i14VZglPZ3R1",
        "colab_type": "code",
        "colab": {}
      },
      "source": [
        "df=pd.read_csv('/content/Combined_News_DJIA.csv')"
      ],
      "execution_count": 3,
      "outputs": []
    },
    {
      "cell_type": "code",
      "metadata": {
        "id": "YgC3Nej6Z8yt",
        "colab_type": "code",
        "colab": {
          "base_uri": "https://localhost:8080/",
          "height": 683
        },
        "outputId": "a77ecdf4-be07-437c-f21a-f1a0587c35d1"
      },
      "source": [
        "df.head()"
      ],
      "execution_count": 4,
      "outputs": [
        {
          "output_type": "execute_result",
          "data": {
            "text/html": [
              "<div>\n",
              "<style scoped>\n",
              "    .dataframe tbody tr th:only-of-type {\n",
              "        vertical-align: middle;\n",
              "    }\n",
              "\n",
              "    .dataframe tbody tr th {\n",
              "        vertical-align: top;\n",
              "    }\n",
              "\n",
              "    .dataframe thead th {\n",
              "        text-align: right;\n",
              "    }\n",
              "</style>\n",
              "<table border=\"1\" class=\"dataframe\">\n",
              "  <thead>\n",
              "    <tr style=\"text-align: right;\">\n",
              "      <th></th>\n",
              "      <th>Date</th>\n",
              "      <th>Label</th>\n",
              "      <th>Top1</th>\n",
              "      <th>Top2</th>\n",
              "      <th>Top3</th>\n",
              "      <th>Top4</th>\n",
              "      <th>Top5</th>\n",
              "      <th>Top6</th>\n",
              "      <th>Top7</th>\n",
              "      <th>Top8</th>\n",
              "      <th>Top9</th>\n",
              "      <th>Top10</th>\n",
              "      <th>Top11</th>\n",
              "      <th>Top12</th>\n",
              "      <th>Top13</th>\n",
              "      <th>Top14</th>\n",
              "      <th>Top15</th>\n",
              "      <th>Top16</th>\n",
              "      <th>Top17</th>\n",
              "      <th>Top18</th>\n",
              "      <th>Top19</th>\n",
              "      <th>Top20</th>\n",
              "      <th>Top21</th>\n",
              "      <th>Top22</th>\n",
              "      <th>Top23</th>\n",
              "      <th>Top24</th>\n",
              "      <th>Top25</th>\n",
              "    </tr>\n",
              "  </thead>\n",
              "  <tbody>\n",
              "    <tr>\n",
              "      <th>0</th>\n",
              "      <td>2008-08-08</td>\n",
              "      <td>0</td>\n",
              "      <td>b\"Georgia 'downs two Russian warplanes' as cou...</td>\n",
              "      <td>b'BREAKING: Musharraf to be impeached.'</td>\n",
              "      <td>b'Russia Today: Columns of troops roll into So...</td>\n",
              "      <td>b'Russian tanks are moving towards the capital...</td>\n",
              "      <td>b\"Afghan children raped with 'impunity,' U.N. ...</td>\n",
              "      <td>b'150 Russian tanks have entered South Ossetia...</td>\n",
              "      <td>b\"Breaking: Georgia invades South Ossetia, Rus...</td>\n",
              "      <td>b\"The 'enemy combatent' trials are nothing but...</td>\n",
              "      <td>b'Georgian troops retreat from S. Osettain cap...</td>\n",
              "      <td>b'Did the U.S. Prep Georgia for War with Russia?'</td>\n",
              "      <td>b'Rice Gives Green Light for Israel to Attack ...</td>\n",
              "      <td>b'Announcing:Class Action Lawsuit on Behalf of...</td>\n",
              "      <td>b\"So---Russia and Georgia are at war and the N...</td>\n",
              "      <td>b\"China tells Bush to stay out of other countr...</td>\n",
              "      <td>b'Did World War III start today?'</td>\n",
              "      <td>b'Georgia Invades South Ossetia - if Russia ge...</td>\n",
              "      <td>b'Al-Qaeda Faces Islamist Backlash'</td>\n",
              "      <td>b'Condoleezza Rice: \"The US would not act to p...</td>\n",
              "      <td>b'This is a busy day:  The European Union has ...</td>\n",
              "      <td>b\"Georgia will withdraw 1,000 soldiers from Ir...</td>\n",
              "      <td>b'Why the Pentagon Thinks Attacking Iran is a ...</td>\n",
              "      <td>b'Caucasus in crisis: Georgia invades South Os...</td>\n",
              "      <td>b'Indian shoe manufactory  - And again in a se...</td>\n",
              "      <td>b'Visitors Suffering from Mental Illnesses Ban...</td>\n",
              "      <td>b\"No Help for Mexico's Kidnapping Surge\"</td>\n",
              "    </tr>\n",
              "    <tr>\n",
              "      <th>1</th>\n",
              "      <td>2008-08-11</td>\n",
              "      <td>1</td>\n",
              "      <td>b'Why wont America and Nato help us? If they w...</td>\n",
              "      <td>b'Bush puts foot down on Georgian conflict'</td>\n",
              "      <td>b\"Jewish Georgian minister: Thanks to Israeli ...</td>\n",
              "      <td>b'Georgian army flees in disarray as Russians ...</td>\n",
              "      <td>b\"Olympic opening ceremony fireworks 'faked'\"</td>\n",
              "      <td>b'What were the Mossad with fraudulent New Zea...</td>\n",
              "      <td>b'Russia angered by Israeli military sale to G...</td>\n",
              "      <td>b'An American citizen living in S.Ossetia blam...</td>\n",
              "      <td>b'Welcome To World War IV! Now In High Definit...</td>\n",
              "      <td>b\"Georgia's move, a mistake of monumental prop...</td>\n",
              "      <td>b'Russia presses deeper into Georgia; U.S. say...</td>\n",
              "      <td>b'Abhinav Bindra wins first ever Individual Ol...</td>\n",
              "      <td>b' U.S. ship heads for Arctic to define territ...</td>\n",
              "      <td>b'Drivers in a Jerusalem taxi station threaten...</td>\n",
              "      <td>b'The French Team is Stunned by Phelps and the...</td>\n",
              "      <td>b'Israel and the US behind the Georgian aggres...</td>\n",
              "      <td>b'\"Do not believe TV, neither Russian nor Geor...</td>\n",
              "      <td>b'Riots are still going on in Montreal (Canada...</td>\n",
              "      <td>b'China to overtake US as largest manufacturer'</td>\n",
              "      <td>b'War in South Ossetia [PICS]'</td>\n",
              "      <td>b'Israeli Physicians Group Condemns State Tort...</td>\n",
              "      <td>b' Russia has just beaten the United States ov...</td>\n",
              "      <td>b'Perhaps *the* question about the Georgia - R...</td>\n",
              "      <td>b'Russia is so much better at war'</td>\n",
              "      <td>b\"So this is what it's come to: trading sex fo...</td>\n",
              "    </tr>\n",
              "    <tr>\n",
              "      <th>2</th>\n",
              "      <td>2008-08-12</td>\n",
              "      <td>0</td>\n",
              "      <td>b'Remember that adorable 9-year-old who sang a...</td>\n",
              "      <td>b\"Russia 'ends Georgia operation'\"</td>\n",
              "      <td>b'\"If we had no sexual harassment we would hav...</td>\n",
              "      <td>b\"Al-Qa'eda is losing support in Iraq because ...</td>\n",
              "      <td>b'Ceasefire in Georgia: Putin Outmaneuvers the...</td>\n",
              "      <td>b'Why Microsoft and Intel tried to kill the XO...</td>\n",
              "      <td>b'Stratfor: The Russo-Georgian War and the Bal...</td>\n",
              "      <td>b\"I'm Trying to Get a Sense of This Whole Geor...</td>\n",
              "      <td>b\"The US military was surprised by the timing ...</td>\n",
              "      <td>b'U.S. Beats War Drum as Iran Dumps the Dollar'</td>\n",
              "      <td>b'Gorbachev: \"Georgian military attacked the S...</td>\n",
              "      <td>b'CNN use footage of Tskhinvali ruins to cover...</td>\n",
              "      <td>b'Beginning a war as the Olympics were opening...</td>\n",
              "      <td>b'55 pyramids as large as the Luxor stacked in...</td>\n",
              "      <td>b'The 11 Top Party Cities in the World'</td>\n",
              "      <td>b'U.S. troops still in Georgia (did you know t...</td>\n",
              "      <td>b'Why Russias response to Georgia was right'</td>\n",
              "      <td>b'Gorbachev accuses U.S. of making a \"serious ...</td>\n",
              "      <td>b'Russia, Georgia, and NATO: Cold War Two'</td>\n",
              "      <td>b'Remember that adorable 62-year-old who led y...</td>\n",
              "      <td>b'War in Georgia: The Israeli connection'</td>\n",
              "      <td>b'All signs point to the US encouraging Georgi...</td>\n",
              "      <td>b'Christopher King argues that the US and NATO...</td>\n",
              "      <td>b'America: The New Mexico?'</td>\n",
              "      <td>b\"BBC NEWS | Asia-Pacific | Extinction 'by man...</td>\n",
              "    </tr>\n",
              "    <tr>\n",
              "      <th>3</th>\n",
              "      <td>2008-08-13</td>\n",
              "      <td>0</td>\n",
              "      <td>b' U.S. refuses Israel weapons to attack Iran:...</td>\n",
              "      <td>b\"When the president ordered to attack Tskhinv...</td>\n",
              "      <td>b' Israel clears troops who killed Reuters cam...</td>\n",
              "      <td>b'Britain\\'s policy of being tough on drugs is...</td>\n",
              "      <td>b'Body of 14 year old found in trunk; Latest (...</td>\n",
              "      <td>b'China has moved 10 *million* quake survivors...</td>\n",
              "      <td>b\"Bush announces Operation Get All Up In Russi...</td>\n",
              "      <td>b'Russian forces sink Georgian ships '</td>\n",
              "      <td>b\"The commander of a Navy air reconnaissance s...</td>\n",
              "      <td>b\"92% of CNN readers: Russia's actions in Geor...</td>\n",
              "      <td>b'USA to send fleet into Black Sea to help Geo...</td>\n",
              "      <td>b\"US warns against Israeli plan to strike agai...</td>\n",
              "      <td>b\"In an intriguing cyberalliance, two Estonian...</td>\n",
              "      <td>b'The CNN Effect: Georgia Schools Russia in In...</td>\n",
              "      <td>b'Why Russias response to Georgia was right'</td>\n",
              "      <td>b'Elephants extinct by 2020?'</td>\n",
              "      <td>b'US humanitarian missions soon in Georgia - i...</td>\n",
              "      <td>b\"Georgia's DDOS came from US sources\"</td>\n",
              "      <td>b'Russian convoy heads into Georgia, violating...</td>\n",
              "      <td>b'Israeli defence minister: US against strike ...</td>\n",
              "      <td>b'Gorbachev: We Had No Choice'</td>\n",
              "      <td>b'Witness: Russian forces head towards Tbilisi...</td>\n",
              "      <td>b' Quarter of Russians blame U.S. for conflict...</td>\n",
              "      <td>b'Georgian president  says US military will ta...</td>\n",
              "      <td>b'2006: Nobel laureate Aleksander Solzhenitsyn...</td>\n",
              "    </tr>\n",
              "    <tr>\n",
              "      <th>4</th>\n",
              "      <td>2008-08-14</td>\n",
              "      <td>1</td>\n",
              "      <td>b'All the experts admit that we should legalis...</td>\n",
              "      <td>b'War in South Osetia - 89 pictures made by a ...</td>\n",
              "      <td>b'Swedish wrestler Ara Abrahamian throws away ...</td>\n",
              "      <td>b'Russia exaggerated the death toll in South O...</td>\n",
              "      <td>b'Missile That Killed 9 Inside Pakistan May Ha...</td>\n",
              "      <td>b\"Rushdie Condemns Random House's Refusal to P...</td>\n",
              "      <td>b'Poland and US agree to missle defense deal. ...</td>\n",
              "      <td>b'Will the Russians conquer Tblisi? Bet on it,...</td>\n",
              "      <td>b'Russia exaggerating South Ossetian death tol...</td>\n",
              "      <td>b' Musharraf expected to resign rather than fa...</td>\n",
              "      <td>b'Moscow Made Plans Months Ago to Invade Georgia'</td>\n",
              "      <td>b'Why Russias response to Georgia was right'</td>\n",
              "      <td>b'Nigeria has handed over the potentially oil-...</td>\n",
              "      <td>b'The US and Poland have agreed a preliminary ...</td>\n",
              "      <td>b'Russia apparently is sabotaging infrastructu...</td>\n",
              "      <td>b'Bank analyst forecast Georgian crisis 2 days...</td>\n",
              "      <td>b\"Georgia confict could set back Russia's US r...</td>\n",
              "      <td>b'War in the Caucasus is as much the product o...</td>\n",
              "      <td>b'\"Non-media\" photos of South Ossetia/Georgia ...</td>\n",
              "      <td>b'Georgian TV reporter shot by Russian sniper ...</td>\n",
              "      <td>b'Saudi Arabia: Mother moves to block child ma...</td>\n",
              "      <td>b'Taliban wages war on humanitarian aid workers'</td>\n",
              "      <td>b'Russia: World  \"can forget about\" Georgia\\'s...</td>\n",
              "      <td>b'Darfur rebels accuse Sudan of mounting major...</td>\n",
              "      <td>b'Philippines : Peace Advocate say Muslims nee...</td>\n",
              "    </tr>\n",
              "  </tbody>\n",
              "</table>\n",
              "</div>"
            ],
            "text/plain": [
              "         Date  ...                                              Top25\n",
              "0  2008-08-08  ...           b\"No Help for Mexico's Kidnapping Surge\"\n",
              "1  2008-08-11  ...  b\"So this is what it's come to: trading sex fo...\n",
              "2  2008-08-12  ...  b\"BBC NEWS | Asia-Pacific | Extinction 'by man...\n",
              "3  2008-08-13  ...  b'2006: Nobel laureate Aleksander Solzhenitsyn...\n",
              "4  2008-08-14  ...  b'Philippines : Peace Advocate say Muslims nee...\n",
              "\n",
              "[5 rows x 27 columns]"
            ]
          },
          "metadata": {
            "tags": []
          },
          "execution_count": 4
        }
      ]
    },
    {
      "cell_type": "code",
      "metadata": {
        "id": "I3xWdnDuZ_j9",
        "colab_type": "code",
        "colab": {}
      },
      "source": [
        "train=df[df['Date']< '2015-01-01'] \n",
        "test=df[df['Date']> '2014-12-31']"
      ],
      "execution_count": 5,
      "outputs": []
    },
    {
      "cell_type": "code",
      "metadata": {
        "id": "XZzfKuf6cO7Y",
        "colab_type": "code",
        "colab": {}
      },
      "source": [
        "#Removing punctuations and replacing by balnk space\n",
        "data=train.iloc[:,2:27]\n",
        "data.replace(\"[^a-zA-Z]\",\" \",regex=True,inplace=True)"
      ],
      "execution_count": 6,
      "outputs": []
    },
    {
      "cell_type": "code",
      "metadata": {
        "id": "kKgdFk7yeKdD",
        "colab_type": "code",
        "colab": {
          "base_uri": "https://localhost:8080/",
          "height": 683
        },
        "outputId": "43f0d1ed-c8dc-4eab-aae5-2d0a463dcd55"
      },
      "source": [
        "for d in data:\n",
        "  data[d]=data[d].str.lower()\n",
        "data.head()"
      ],
      "execution_count": 7,
      "outputs": [
        {
          "output_type": "execute_result",
          "data": {
            "text/html": [
              "<div>\n",
              "<style scoped>\n",
              "    .dataframe tbody tr th:only-of-type {\n",
              "        vertical-align: middle;\n",
              "    }\n",
              "\n",
              "    .dataframe tbody tr th {\n",
              "        vertical-align: top;\n",
              "    }\n",
              "\n",
              "    .dataframe thead th {\n",
              "        text-align: right;\n",
              "    }\n",
              "</style>\n",
              "<table border=\"1\" class=\"dataframe\">\n",
              "  <thead>\n",
              "    <tr style=\"text-align: right;\">\n",
              "      <th></th>\n",
              "      <th>Top1</th>\n",
              "      <th>Top2</th>\n",
              "      <th>Top3</th>\n",
              "      <th>Top4</th>\n",
              "      <th>Top5</th>\n",
              "      <th>Top6</th>\n",
              "      <th>Top7</th>\n",
              "      <th>Top8</th>\n",
              "      <th>Top9</th>\n",
              "      <th>Top10</th>\n",
              "      <th>Top11</th>\n",
              "      <th>Top12</th>\n",
              "      <th>Top13</th>\n",
              "      <th>Top14</th>\n",
              "      <th>Top15</th>\n",
              "      <th>Top16</th>\n",
              "      <th>Top17</th>\n",
              "      <th>Top18</th>\n",
              "      <th>Top19</th>\n",
              "      <th>Top20</th>\n",
              "      <th>Top21</th>\n",
              "      <th>Top22</th>\n",
              "      <th>Top23</th>\n",
              "      <th>Top24</th>\n",
              "      <th>Top25</th>\n",
              "    </tr>\n",
              "  </thead>\n",
              "  <tbody>\n",
              "    <tr>\n",
              "      <th>0</th>\n",
              "      <td>b georgia  downs two russian warplanes  as cou...</td>\n",
              "      <td>b breaking  musharraf to be impeached</td>\n",
              "      <td>b russia today  columns of troops roll into so...</td>\n",
              "      <td>b russian tanks are moving towards the capital...</td>\n",
              "      <td>b afghan children raped with  impunity   u n  ...</td>\n",
              "      <td>b     russian tanks have entered south ossetia...</td>\n",
              "      <td>b breaking  georgia invades south ossetia  rus...</td>\n",
              "      <td>b the  enemy combatent  trials are nothing but...</td>\n",
              "      <td>b georgian troops retreat from s  osettain cap...</td>\n",
              "      <td>b did the u s  prep georgia for war with russia</td>\n",
              "      <td>b rice gives green light for israel to attack ...</td>\n",
              "      <td>b announcing class action lawsuit on behalf of...</td>\n",
              "      <td>b so   russia and georgia are at war and the n...</td>\n",
              "      <td>b china tells bush to stay out of other countr...</td>\n",
              "      <td>b did world war iii start today</td>\n",
              "      <td>b georgia invades south ossetia   if russia ge...</td>\n",
              "      <td>b al qaeda faces islamist backlash</td>\n",
              "      <td>b condoleezza rice   the us would not act to p...</td>\n",
              "      <td>b this is a busy day   the european union has ...</td>\n",
              "      <td>b georgia will withdraw       soldiers from ir...</td>\n",
              "      <td>b why the pentagon thinks attacking iran is a ...</td>\n",
              "      <td>b caucasus in crisis  georgia invades south os...</td>\n",
              "      <td>b indian shoe manufactory    and again in a se...</td>\n",
              "      <td>b visitors suffering from mental illnesses ban...</td>\n",
              "      <td>b no help for mexico s kidnapping surge</td>\n",
              "    </tr>\n",
              "    <tr>\n",
              "      <th>1</th>\n",
              "      <td>b why wont america and nato help us  if they w...</td>\n",
              "      <td>b bush puts foot down on georgian conflict</td>\n",
              "      <td>b jewish georgian minister  thanks to israeli ...</td>\n",
              "      <td>b georgian army flees in disarray as russians ...</td>\n",
              "      <td>b olympic opening ceremony fireworks  faked</td>\n",
              "      <td>b what were the mossad with fraudulent new zea...</td>\n",
              "      <td>b russia angered by israeli military sale to g...</td>\n",
              "      <td>b an american citizen living in s ossetia blam...</td>\n",
              "      <td>b welcome to world war iv  now in high definit...</td>\n",
              "      <td>b georgia s move  a mistake of monumental prop...</td>\n",
              "      <td>b russia presses deeper into georgia  u s  say...</td>\n",
              "      <td>b abhinav bindra wins first ever individual ol...</td>\n",
              "      <td>b  u s  ship heads for arctic to define territ...</td>\n",
              "      <td>b drivers in a jerusalem taxi station threaten...</td>\n",
              "      <td>b the french team is stunned by phelps and the...</td>\n",
              "      <td>b israel and the us behind the georgian aggres...</td>\n",
              "      <td>b  do not believe tv  neither russian nor geor...</td>\n",
              "      <td>b riots are still going on in montreal  canada...</td>\n",
              "      <td>b china to overtake us as largest manufacturer</td>\n",
              "      <td>b war in south ossetia  pics</td>\n",
              "      <td>b israeli physicians group condemns state tort...</td>\n",
              "      <td>b  russia has just beaten the united states ov...</td>\n",
              "      <td>b perhaps  the  question about the georgia   r...</td>\n",
              "      <td>b russia is so much better at war</td>\n",
              "      <td>b so this is what it s come to  trading sex fo...</td>\n",
              "    </tr>\n",
              "    <tr>\n",
              "      <th>2</th>\n",
              "      <td>b remember that adorable   year old who sang a...</td>\n",
              "      <td>b russia  ends georgia operation</td>\n",
              "      <td>b  if we had no sexual harassment we would hav...</td>\n",
              "      <td>b al qa eda is losing support in iraq because ...</td>\n",
              "      <td>b ceasefire in georgia  putin outmaneuvers the...</td>\n",
              "      <td>b why microsoft and intel tried to kill the xo...</td>\n",
              "      <td>b stratfor  the russo georgian war and the bal...</td>\n",
              "      <td>b i m trying to get a sense of this whole geor...</td>\n",
              "      <td>b the us military was surprised by the timing ...</td>\n",
              "      <td>b u s  beats war drum as iran dumps the dollar</td>\n",
              "      <td>b gorbachev   georgian military attacked the s...</td>\n",
              "      <td>b cnn use footage of tskhinvali ruins to cover...</td>\n",
              "      <td>b beginning a war as the olympics were opening...</td>\n",
              "      <td>b    pyramids as large as the luxor stacked in...</td>\n",
              "      <td>b the    top party cities in the world</td>\n",
              "      <td>b u s  troops still in georgia  did you know t...</td>\n",
              "      <td>b why russias response to georgia was right</td>\n",
              "      <td>b gorbachev accuses u s  of making a  serious ...</td>\n",
              "      <td>b russia  georgia  and nato  cold war two</td>\n",
              "      <td>b remember that adorable    year old who led y...</td>\n",
              "      <td>b war in georgia  the israeli connection</td>\n",
              "      <td>b all signs point to the us encouraging georgi...</td>\n",
              "      <td>b christopher king argues that the us and nato...</td>\n",
              "      <td>b america  the new mexico</td>\n",
              "      <td>b bbc news   asia pacific   extinction  by man...</td>\n",
              "    </tr>\n",
              "    <tr>\n",
              "      <th>3</th>\n",
              "      <td>b  u s  refuses israel weapons to attack iran ...</td>\n",
              "      <td>b when the president ordered to attack tskhinv...</td>\n",
              "      <td>b  israel clears troops who killed reuters cam...</td>\n",
              "      <td>b britain  s policy of being tough on drugs is...</td>\n",
              "      <td>b body of    year old found in trunk  latest  ...</td>\n",
              "      <td>b china has moved     million  quake survivors...</td>\n",
              "      <td>b bush announces operation get all up in russi...</td>\n",
              "      <td>b russian forces sink georgian ships</td>\n",
              "      <td>b the commander of a navy air reconnaissance s...</td>\n",
              "      <td>b     of cnn readers  russia s actions in geor...</td>\n",
              "      <td>b usa to send fleet into black sea to help geo...</td>\n",
              "      <td>b us warns against israeli plan to strike agai...</td>\n",
              "      <td>b in an intriguing cyberalliance  two estonian...</td>\n",
              "      <td>b the cnn effect  georgia schools russia in in...</td>\n",
              "      <td>b why russias response to georgia was right</td>\n",
              "      <td>b elephants extinct by</td>\n",
              "      <td>b us humanitarian missions soon in georgia   i...</td>\n",
              "      <td>b georgia s ddos came from us sources</td>\n",
              "      <td>b russian convoy heads into georgia  violating...</td>\n",
              "      <td>b israeli defence minister  us against strike ...</td>\n",
              "      <td>b gorbachev  we had no choice</td>\n",
              "      <td>b witness  russian forces head towards tbilisi...</td>\n",
              "      <td>b  quarter of russians blame u s  for conflict...</td>\n",
              "      <td>b georgian president  says us military will ta...</td>\n",
              "      <td>b       nobel laureate aleksander solzhenitsyn...</td>\n",
              "    </tr>\n",
              "    <tr>\n",
              "      <th>4</th>\n",
              "      <td>b all the experts admit that we should legalis...</td>\n",
              "      <td>b war in south osetia      pictures made by a ...</td>\n",
              "      <td>b swedish wrestler ara abrahamian throws away ...</td>\n",
              "      <td>b russia exaggerated the death toll in south o...</td>\n",
              "      <td>b missile that killed   inside pakistan may ha...</td>\n",
              "      <td>b rushdie condemns random house s refusal to p...</td>\n",
              "      <td>b poland and us agree to missle defense deal  ...</td>\n",
              "      <td>b will the russians conquer tblisi  bet on it ...</td>\n",
              "      <td>b russia exaggerating south ossetian death tol...</td>\n",
              "      <td>b  musharraf expected to resign rather than fa...</td>\n",
              "      <td>b moscow made plans months ago to invade georgia</td>\n",
              "      <td>b why russias response to georgia was right</td>\n",
              "      <td>b nigeria has handed over the potentially oil ...</td>\n",
              "      <td>b the us and poland have agreed a preliminary ...</td>\n",
              "      <td>b russia apparently is sabotaging infrastructu...</td>\n",
              "      <td>b bank analyst forecast georgian crisis   days...</td>\n",
              "      <td>b georgia confict could set back russia s us r...</td>\n",
              "      <td>b war in the caucasus is as much the product o...</td>\n",
              "      <td>b  non media  photos of south ossetia georgia ...</td>\n",
              "      <td>b georgian tv reporter shot by russian sniper ...</td>\n",
              "      <td>b saudi arabia  mother moves to block child ma...</td>\n",
              "      <td>b taliban wages war on humanitarian aid workers</td>\n",
              "      <td>b russia  world   can forget about  georgia  s...</td>\n",
              "      <td>b darfur rebels accuse sudan of mounting major...</td>\n",
              "      <td>b philippines   peace advocate say muslims nee...</td>\n",
              "    </tr>\n",
              "  </tbody>\n",
              "</table>\n",
              "</div>"
            ],
            "text/plain": [
              "                                                Top1  ...                                              Top25\n",
              "0  b georgia  downs two russian warplanes  as cou...  ...           b no help for mexico s kidnapping surge \n",
              "1  b why wont america and nato help us  if they w...  ...  b so this is what it s come to  trading sex fo...\n",
              "2  b remember that adorable   year old who sang a...  ...  b bbc news   asia pacific   extinction  by man...\n",
              "3  b  u s  refuses israel weapons to attack iran ...  ...  b       nobel laureate aleksander solzhenitsyn...\n",
              "4  b all the experts admit that we should legalis...  ...  b philippines   peace advocate say muslims nee...\n",
              "\n",
              "[5 rows x 25 columns]"
            ]
          },
          "metadata": {
            "tags": []
          },
          "execution_count": 7
        }
      ]
    },
    {
      "cell_type": "code",
      "metadata": {
        "id": "x-wckH3ue6EQ",
        "colab_type": "code",
        "colab": {
          "base_uri": "https://localhost:8080/",
          "height": 171
        },
        "outputId": "88613b15-24a8-4883-a9e0-ec67e8e13bd5"
      },
      "source": [
        "# join all words in first row\n",
        "''.join(str(x)for x in data.iloc[1,0:27])"
      ],
      "execution_count": 8,
      "outputs": [
        {
          "output_type": "execute_result",
          "data": {
            "application/vnd.google.colaboratory.intrinsic+json": {
              "type": "string"
            },
            "text/plain": [
              "'b why wont america and nato help us  if they wont help us now  why did we help them in iraq  b bush puts foot down on georgian conflict b jewish georgian minister  thanks to israeli training  we re fending off russia  b georgian army flees in disarray as russians advance   gori abandoned to russia without a shot fired b olympic opening ceremony fireworks  faked  b what were the mossad with fraudulent new zealand passports doing in iraq  b russia angered by israeli military sale to georgia b an american citizen living in s ossetia blames u s  and georgian leaders for the genocide of innocent people b welcome to world war iv  now in high definition  b georgia s move  a mistake of monumental proportions  b russia presses deeper into georgia  u s  says regime change is goal b abhinav bindra wins first ever individual olympic gold medal for india b  u s  ship heads for arctic to define territory b drivers in a jerusalem taxi station threaten to quit rather than work for their new boss   an arab b the french team is stunned by phelps and the  x   m relay team b israel and the us behind the georgian aggression  b  do not believe tv  neither russian nor georgian  there are much more victims  b riots are still going on in montreal  canada  because police murdered a boy on saturday  b china to overtake us as largest manufacturer b war in south ossetia  pics  b israeli physicians group condemns state torture b  russia has just beaten the united states over the head with peak oil b perhaps  the  question about the georgia   russia conflict  b russia is so much better at war b so this is what it s come to  trading sex for food  '"
            ]
          },
          "metadata": {
            "tags": []
          },
          "execution_count": 8
        }
      ]
    },
    {
      "cell_type": "code",
      "metadata": {
        "id": "CofAGkSji73G",
        "colab_type": "code",
        "colab": {}
      },
      "source": [
        "#convert all into paragraph\n",
        "headlines=[]\n",
        "for row in range(0,len(data.index)):\n",
        "  headlines.append(''.join(str(x)for x in data.iloc[row,0:27]))"
      ],
      "execution_count": 9,
      "outputs": []
    },
    {
      "cell_type": "code",
      "metadata": {
        "id": "8BHuZm1xjlrH",
        "colab_type": "code",
        "colab": {
          "base_uri": "https://localhost:8080/",
          "height": 171
        },
        "outputId": "967f056e-4b95-4843-e430-33bb96746d67"
      },
      "source": [
        "headlines[1]"
      ],
      "execution_count": 18,
      "outputs": [
        {
          "output_type": "execute_result",
          "data": {
            "application/vnd.google.colaboratory.intrinsic+json": {
              "type": "string"
            },
            "text/plain": [
              "'b why wont america and nato help us  if they wont help us now  why did we help them in iraq  b bush puts foot down on georgian conflict b jewish georgian minister  thanks to israeli training  we re fending off russia  b georgian army flees in disarray as russians advance   gori abandoned to russia without a shot fired b olympic opening ceremony fireworks  faked  b what were the mossad with fraudulent new zealand passports doing in iraq  b russia angered by israeli military sale to georgia b an american citizen living in s ossetia blames u s  and georgian leaders for the genocide of innocent people b welcome to world war iv  now in high definition  b georgia s move  a mistake of monumental proportions  b russia presses deeper into georgia  u s  says regime change is goal b abhinav bindra wins first ever individual olympic gold medal for india b  u s  ship heads for arctic to define territory b drivers in a jerusalem taxi station threaten to quit rather than work for their new boss   an arab b the french team is stunned by phelps and the  x   m relay team b israel and the us behind the georgian aggression  b  do not believe tv  neither russian nor georgian  there are much more victims  b riots are still going on in montreal  canada  because police murdered a boy on saturday  b china to overtake us as largest manufacturer b war in south ossetia  pics  b israeli physicians group condemns state torture b  russia has just beaten the united states over the head with peak oil b perhaps  the  question about the georgia   russia conflict  b russia is so much better at war b so this is what it s come to  trading sex for food  '"
            ]
          },
          "metadata": {
            "tags": []
          },
          "execution_count": 18
        }
      ]
    },
    {
      "cell_type": "code",
      "metadata": {
        "id": "G-ZA0gcyk4k2",
        "colab_type": "code",
        "colab": {}
      },
      "source": [
        "from sklearn.feature_extraction.text import CountVectorizer\n",
        "from sklearn.ensemble import RandomForestClassifier"
      ],
      "execution_count": 11,
      "outputs": []
    },
    {
      "cell_type": "code",
      "metadata": {
        "id": "FXqkTBL6mkGT",
        "colab_type": "code",
        "colab": {}
      },
      "source": [
        "# used 2 as increases accaracy \n",
        "countvector=CountVectorizer(ngram_range=(2,2))\n",
        "train_dataset=countvector.fit_transform(headlines)"
      ],
      "execution_count": 12,
      "outputs": []
    },
    {
      "cell_type": "code",
      "metadata": {
        "id": "SDj2qzJMod-O",
        "colab_type": "code",
        "colab": {
          "base_uri": "https://localhost:8080/",
          "height": 153
        },
        "outputId": "4d0c9656-e3f7-448f-99d8-4550c4075734"
      },
      "source": [
        "random_classifier=RandomForestClassifier(n_estimators=200,criterion='entropy')\n",
        "random_classifier.fit(train_dataset,train['Label'])"
      ],
      "execution_count": 13,
      "outputs": [
        {
          "output_type": "execute_result",
          "data": {
            "text/plain": [
              "RandomForestClassifier(bootstrap=True, ccp_alpha=0.0, class_weight=None,\n",
              "                       criterion='entropy', max_depth=None, max_features='auto',\n",
              "                       max_leaf_nodes=None, max_samples=None,\n",
              "                       min_impurity_decrease=0.0, min_impurity_split=None,\n",
              "                       min_samples_leaf=1, min_samples_split=2,\n",
              "                       min_weight_fraction_leaf=0.0, n_estimators=200,\n",
              "                       n_jobs=None, oob_score=False, random_state=None,\n",
              "                       verbose=0, warm_start=False)"
            ]
          },
          "metadata": {
            "tags": []
          },
          "execution_count": 13
        }
      ]
    },
    {
      "cell_type": "code",
      "metadata": {
        "id": "wyCEV6FFsNpa",
        "colab_type": "code",
        "colab": {}
      },
      "source": [
        "test_transform=[]\n",
        "for row in range(0,len(test.index)):\n",
        "  test_transform.append(''.join(str(x)for x in test.iloc[row,0:25]))\n",
        "test_dataset=countvector.transform(test_transform)\n",
        "predictions=random_classifier.predict(test_dataset)"
      ],
      "execution_count": 14,
      "outputs": []
    },
    {
      "cell_type": "code",
      "metadata": {
        "id": "pcjNskZgtWsc",
        "colab_type": "code",
        "colab": {}
      },
      "source": [
        "# libraray to check Accuracy\n",
        "from sklearn.metrics import classification_report,confusion_matrix,accuracy_score\n"
      ],
      "execution_count": 15,
      "outputs": []
    },
    {
      "cell_type": "code",
      "metadata": {
        "id": "Dizvue6-xPsI",
        "colab_type": "code",
        "colab": {
          "base_uri": "https://localhost:8080/",
          "height": 221
        },
        "outputId": "5e487108-2d39-48f2-f46d-b9e98d332108"
      },
      "source": [
        "matrix=confusion_matrix(test['Label'],predictions)\n",
        "print(matrix)\n",
        "score=accuracy_score(test['Label'],predictions)\n",
        "print(score)\n",
        "report=classification_report(test['Label'],predictions)\n",
        "print(report)"
      ],
      "execution_count": 16,
      "outputs": [
        {
          "output_type": "stream",
          "text": [
            "[[  2 184]\n",
            " [  0 192]]\n",
            "0.5132275132275133\n",
            "              precision    recall  f1-score   support\n",
            "\n",
            "           0       1.00      0.01      0.02       186\n",
            "           1       0.51      1.00      0.68       192\n",
            "\n",
            "    accuracy                           0.51       378\n",
            "   macro avg       0.76      0.51      0.35       378\n",
            "weighted avg       0.75      0.51      0.35       378\n",
            "\n"
          ],
          "name": "stdout"
        }
      ]
    },
    {
      "cell_type": "code",
      "metadata": {
        "id": "eQkvqd6owI2s",
        "colab_type": "code",
        "colab": {}
      },
      "source": [
        ""
      ],
      "execution_count": 16,
      "outputs": []
    }
  ]
}